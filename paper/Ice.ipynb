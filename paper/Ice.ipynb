{
 "cells": [
  {
   "cell_type": "code",
   "execution_count": 1,
   "id": "75554028",
   "metadata": {},
   "outputs": [],
   "source": [
    "from ase.io import read\n",
    "import numpy as np\n",
    "import os\n",
    "from tqdm.auto import tqdm\n",
    "from time import time\n",
    "\n",
    "from skmatter.preprocessing import StandardFlexibleScaler\n",
    "from skmatter.decomposition import PCovR\n",
    "from rascal.representations import SphericalInvariants as SOAP\n",
    "from sklearn.linear_model import Ridge\n",
    "from IPython.display import clear_output\n",
    "from matplotlib import pyplot as plt\n",
    "from rascal.models import Kernel"
   ]
  },
  {
   "cell_type": "code",
   "execution_count": 2,
   "id": "cba48f68",
   "metadata": {
    "code_folding": [
     12
    ]
   },
   "outputs": [],
   "source": [
    "catch = list(\n",
    "    set([\n",
    "        '0', '11_2_15848', '12_2_29187', '12_2_32449', '14_2_48453',\n",
    "        '151_2_4949650', '152_2_118474', '15_2_201714', '169_2_10608',\n",
    "        '169_2_7915', '207_1_4435', '20_2_26425', '20_2_28176', '2_2_342692',\n",
    "        '53_3_726600', '58_2_511', '61_2_8842', '67_2_1563', '84_2_1419',\n",
    "        '91_2_8335121', 'ACO', 'BSV', 'CS-I', 'CS-II', 'DDR', 'HS-III', 'II',\n",
    "        'III', 'IRR', 'IV', 'IWV', 'IX', 'Ic', 'Ih', 'LTA', 'MAR', 'NON',\n",
    "        'PCOD8007225', 'PCOD8045578', 'PCOD8047078', 'PCOD8047931',\n",
    "        'PCOD8172143', 'PCOD8301974', 'PCOD8321499', 'PCOD8324623', 'Q', 'SGT',\n",
    "        'VI', 'VII', 'VIII', 'X', 'XI', 'XIII', 'XIV', 'XV', 'i'\n",
    "    ]))\n",
    "labels = {\n",
    "    \"207_1_4435\": 1,\n",
    "    \"12_2_29187_\": 2,\n",
    "    \"ACO\": 3,\n",
    "    \"LTA\": 4,\n",
    "    \"BSV\": 5,\n",
    "    \"169_2_7915\": 6,\n",
    "    \"53_3_726600\": 7,\n",
    "    \"20_2_26425\": 8,\n",
    "    \"12_2_32449\": 9,\n",
    "    \"84_2_1419\": 10,\n",
    "    \"61_2_8842\": 11,\n",
    "    \"169_2_10608\": 12,\n",
    "    \"PCOD8047078\": 13,\n",
    "    \"67_2_1563\": 14,\n",
    "    \"PCOD8172143\": 15,\n",
    "    \"152_2_118474\": 16,\n",
    "    \"DDR\": 17,\n",
    "    \"11_2_15848\": 18,\n",
    "    \"91_2_8335121\": 19,\n",
    "    \"PCOD8301974\": 20,\n",
    "    \"PCOD8045578\": 21,\n",
    "    \"58_2_511\": 22,\n",
    "    \"151_2_4949650\": 23,\n",
    "    \"PCOD8007225\": 24,\n",
    "    \"2_2_342692\": 25,\n",
    "    \"PCOD8321499\": 26,\n",
    "    \"PCOD8047931\": 27,\n",
    "    \"15_2_201714\": 28,\n",
    "    \"MAR\": 29,\n",
    "    \"PCOD8324623\": 30,\n",
    "    \"SGT\": 31,\n",
    "    \"20_2_28176\": 32,\n",
    "    \"14_2_48453\": 33,\n",
    "    \"NON\": 34,\n",
    "    'quartz': 'Q',\n",
    "    'Ic_I41md': 'Ic',\n",
    "    'Ih_Cmc21': 'Ih',\n",
    "}"
   ]
  },
  {
   "cell_type": "code",
   "execution_count": 3,
   "id": "b9e3c013",
   "metadata": {},
   "outputs": [],
   "source": [
    "frames=read('ice_w_props.xyz', ':')"
   ]
  },
  {
   "cell_type": "code",
   "execution_count": 4,
   "id": "0ef6a980",
   "metadata": {},
   "outputs": [],
   "source": [
    "props = np.asarray([[frm.info['density [g/cm3]'], \n",
    "                     frm.info['energy [eV/H2O]'], \n",
    "                     frm.info['edr [eV/H2O]']] for frm in frames])\n",
    "\n",
    "poly_names = np.asarray([frm.info['name'] for frm in frames])\n",
    "\n",
    "y_scaler = StandardFlexibleScaler(column_wise=True)\n",
    "y = y_scaler.fit_transform(np.vstack(props[:, 2]))\n",
    "y2_scaler = StandardFlexibleScaler(column_wise=True)\n",
    "y2 = y2_scaler.fit_transform(np.vstack(props[:, 1]))"
   ]
  },
  {
   "cell_type": "markdown",
   "id": "a58f8d39",
   "metadata": {
    "code_folding": [
     3,
     8
    ]
   },
   "source": [
    "frames = np.asarray(read('ice.xyz', ':'))\n",
    "for frame in frames:\n",
    "    frame.wrap(eps=1E-10)\n",
    "\n",
    "props = np.genfromtxt(\n",
    "    'ice.dat',\n",
    "    skip_header=1,\n",
    "    usecols=(2, 3, 4),\n",
    ")\n",
    "poly_names = np.genfromtxt(\n",
    "    'ice.dat',\n",
    "    skip_header=1,\n",
    "    usecols=(0),\n",
    "    dtype=str,\n",
    ")\n",
    "\n",
    "# # take only those shown in the figure or every 10 frames\n",
    "# i = np.array([ii for ii in range(len(frames)) if poly_names[ii] in catch or ii%10==0])\n",
    "# frames = frames[i]\n",
    "# props = props[i]\n",
    "# poly_names = poly_names[i]\n",
    "y_scaler = StandardFlexibleScaler(column_wise=True)\n",
    "y = y_scaler.fit_transform(np.vstack(props[:, 2]))\n",
    "y2_scaler = StandardFlexibleScaler(column_wise=True)\n",
    "y2 = y2_scaler.fit_transform(np.vstack(props[:, 1]))"
   ]
  },
  {
   "cell_type": "code",
   "execution_count": 5,
   "id": "aa85f6c2",
   "metadata": {},
   "outputs": [
    {
     "data": {
      "image/png": "[encoded data removed]",
      "text/plain": [
       "<Figure size 640x480 with 1 Axes>"
      ]
     },
     "metadata": {},
     "output_type": "display_data"
    }
   ],
   "source": [
    "plt.hist(props[:,2], bins=100)\n",
    "plt.gca().set_yscale('log')\n",
    "plt.show()"
   ]
  },
  {
   "cell_type": "code",
   "execution_count": 6,
   "id": "ee61274e",
   "metadata": {},
   "outputs": [
    {
     "data": {
      "application/vnd.jupyter.widget-view+json": {
       "model_id": "1b6694611b2f4a84b9bc68999255c14a",
       "version_major": 2,
       "version_minor": 0
      },
      "text/plain": [
       "  0%|          | 0/15869 [00:00<?, ?it/s]"
      ]
     },
     "metadata": {},
     "output_type": "display_data"
    },
    {
     "data": {
      "text/plain": [
       "15869"
      ]
     },
     "execution_count": 6,
     "metadata": {},
     "output_type": "execute_result"
    }
   ],
   "source": [
    "hists = {\"HH\": [], \"OH\": [], \"OO\": []}\n",
    "bins = np.linspace(0, 7, 100)\n",
    "bc = 0.5 * (bins[1:] + bins[:-1])\n",
    "\n",
    "for i, frame in enumerate(tqdm(frames)):\n",
    "    my_dists = frame.get_all_distances(mic=True)\n",
    "\n",
    "    nH = len(np.where(frame.numbers == 1)[0])\n",
    "    nO = len(np.where(frame.numbers == 8)[0])\n",
    "    nHH = nH * (nH + 1) // 2 - nH\n",
    "    nOO = nO * (nO + 1) // 2 - nO\n",
    "    dOO = [\n",
    "        my_dists[i, j] for i in np.where(frame.numbers == 8)[0]\n",
    "        for j in np.where(frame.numbers == 8)[0] if i > j\n",
    "    ]\n",
    "    assert len(dOO) == nOO\n",
    "    dHH = [\n",
    "        my_dists[i, j] for i in np.where(frame.numbers == 1)[0]\n",
    "        for j in np.where(frame.numbers == 1)[0] if i > j\n",
    "    ]\n",
    "    assert len(dHH) == nHH\n",
    "\n",
    "    hists['HH'].append([np.histogram(dHH, bins=bins)[0], nHH])\n",
    "    hists['OH'].append([\n",
    "        np.histogram(my_dists[frame.numbers == 8][:, frame.numbers == 1],\n",
    "                     bins=bins)[0], nO * nH\n",
    "    ])\n",
    "    hists['OO'].append([np.histogram(dOO, bins=bins)[0], nOO])\n",
    "len(hists[\"HH\"])"
   ]
  },
  {
   "cell_type": "code",
   "execution_count": 7,
   "id": "2c2b4547",
   "metadata": {},
   "outputs": [],
   "source": [
    "mult_hist = {k: np.sum([np.multiply(h[0], h[1]) for h in hists[k]], axis=0) / np.sum([h[1] for h in hists[k]]) for k in hists}"
   ]
  },
  {
   "cell_type": "code",
   "execution_count": 8,
   "id": "1672a1e3",
   "metadata": {},
   "outputs": [
    {
     "data": {
      "image/png": "[encoded data removed]",
      "text/plain": [
       "<Figure size 640x480 with 1 Axes>"
      ]
     },
     "metadata": {},
     "output_type": "display_data"
    }
   ],
   "source": [
    "plt.plot(bc, mult_hist[\"HH\"], label='HH')\n",
    "plt.plot(bc, mult_hist[\"OH\"], label='OH')\n",
    "plt.plot(bc, mult_hist[\"OO\"], label='OO')\n",
    "plt.axvline(1.3, c='k', linestyle='--')\n",
    "plt.axvline(1.8, c='k', linestyle='--')\n",
    "plt.axvline(2.5, c='k', linestyle='--')\n",
    "plt.legend()\n",
    "plt.show()"
   ]
  },
  {
   "cell_type": "code",
   "execution_count": 9,
   "id": "c3ea7b00",
   "metadata": {
    "code_folding": [
     4
    ]
   },
   "outputs": [
    {
     "data": {
      "application/vnd.jupyter.widget-view+json": {
       "model_id": "d9d97323639248c88e3ee2accb01e92f",
       "version_major": 2,
       "version_minor": 0
      },
      "text/plain": [
       "  0%|          | 0/15869 [00:00<?, ?it/s]"
      ]
     },
     "metadata": {},
     "output_type": "display_data"
    },
    {
     "data": {
      "text/plain": [
       "15869"
      ]
     },
     "execution_count": 9,
     "metadata": {},
     "output_type": "execute_result"
    }
   ],
   "source": [
    "hists = {\"HH\": [], \"OH\": [], \"OO\": []}\n",
    "bins = np.linspace(0, 7, 100)\n",
    "bc = 0.5 * (bins[1:] + bins[:-1])\n",
    "\n",
    "for i, frame in enumerate(tqdm(frames)):\n",
    "    my_dists = frame.get_all_distances(mic=False)\n",
    "\n",
    "    nH = len(np.where(frame.numbers == 1)[0])\n",
    "    nO = len(np.where(frame.numbers == 8)[0])\n",
    "    nHH = nH * (nH + 1) // 2 - nH\n",
    "    nOO = nO * (nO + 1) // 2 - nO\n",
    "    dOO = [\n",
    "        my_dists[i, j] for i in np.where(frame.numbers == 8)[0]\n",
    "        for j in np.where(frame.numbers == 8)[0] if i > j\n",
    "    ]\n",
    "    assert len(dOO) == nOO\n",
    "    dHH = [\n",
    "        my_dists[i, j] for i in np.where(frame.numbers == 1)[0]\n",
    "        for j in np.where(frame.numbers == 1)[0] if i > j\n",
    "    ]\n",
    "    assert len(dHH) == nHH\n",
    "\n",
    "    hists['HH'].append([np.histogram(dHH, bins=bins)[0], nHH])\n",
    "    hists['OH'].append([\n",
    "        np.histogram(my_dists[frame.numbers == 8][:, frame.numbers == 1],\n",
    "                     bins=bins)[0], nO * nH\n",
    "    ])\n",
    "    hists['OO'].append([np.histogram(dOO, bins=bins)[0], nOO])\n",
    "len(hists[\"HH\"])"
   ]
  },
  {
   "cell_type": "code",
   "execution_count": 10,
   "id": "201d307c",
   "metadata": {},
   "outputs": [
    {
     "data": {
      "image/png": "[encoded data removed]",
      "text/plain": [
       "<Figure size 640x480 with 1 Axes>"
      ]
     },
     "metadata": {},
     "output_type": "display_data"
    }
   ],
   "source": [
    "mult_hist = {k: np.sum([np.multiply(h[0], h[1]) for h in hists[k]], axis=0) / np.sum([h[1] for h in hists[k]]) for k in hists}\n",
    "plt.plot(bc, mult_hist[\"HH\"], label='HH')\n",
    "plt.plot(bc, mult_hist[\"OH\"], label='OH')\n",
    "plt.plot(bc, mult_hist[\"OO\"], label='OO')\n",
    "plt.legend()\n",
    "plt.show()"
   ]
  },
  {
   "cell_type": "code",
   "execution_count": 11,
   "id": "f13fa440",
   "metadata": {},
   "outputs": [],
   "source": [
    "for frame in frames:\n",
    "    mask = np.zeros(len(frame), dtype=bool)\n",
    "    mask[np.where(frame.numbers==8)] = 1\n",
    "    frame.arrays['center_atoms_mask'] = mask"
   ]
  },
  {
   "cell_type": "code",
   "execution_count": null,
   "id": "5de75c1e",
   "metadata": {
    "code_folding": [],
    "scrolled": true
   },
   "outputs": [],
   "source": [
    "hypers = {\n",
    "    'interaction_cutoff': 5.0,\n",
    "    'max_radial': 9,\n",
    "    'max_angular': 6,\n",
    "    'gaussian_sigma_constant': 0.5,\n",
    "    'gaussian_sigma_type': 'Constant',\n",
    "    'cutoff_smooth_width': 0.5,\n",
    "    'radial_basis': 'GTO',\n",
    "    'normalize': False\n",
    "}\n",
    "soap = SOAP(**hypers)\n",
    "lens = [\n",
    "    len(\n",
    "        np.where(\n",
    "            f.arrays.get('center_atoms_mask', np.ones(len(frame),\n",
    "                                                             dtype=bool)))[0])\n",
    "    for f in frames\n",
    "]\n",
    "splits = [sum(lens[:i]) for i in range(1, len(lens))]\n",
    "\n",
    "## old implementation\n",
    "#\n",
    "#if not os.path.exists('soaps.npy'):\n",
    "#    manager = soap.transform(frames)\n",
    "#    xa_raw = manager.get_features(soap)\n",
    "#    np.save('soaps.npy', xa_raw)\n",
    "#else:\n",
    "#    xa_raw = np.load('soaps.npy')\n",
    "#i_splits = np.array_split(np.arange(xa_raw.shape[0]), splits)\n",
    "\n",
    "## my implementation\n",
    "\n",
    "start= time()\n",
    "manager = soap.transform(frames)\n",
    "xa_raw = manager.get_features(soap)\n",
    "print(f\"Time taken to compute features: {time()-start} s\")"
   ]
  },
  {
   "cell_type": "code",
   "execution_count": null,
   "id": "1f3396f0",
   "metadata": {},
   "outputs": [],
   "source": [
    "i_splits = np.array_split(np.arange(xa_raw.shape[0]), splits)"
   ]
  },
  {
   "cell_type": "code",
   "execution_count": null,
   "id": "d58c35bd",
   "metadata": {},
   "outputs": [],
   "source": [
    "X_raw = np.array([x.mean(axis=0) for x in np.array_split(xa_raw, splits)])\n",
    "X = StandardFlexibleScaler(column_wise=False).fit_transform(X_raw)"
   ]
  },
  {
   "cell_type": "code",
   "execution_count": null,
   "id": "db9aafe2",
   "metadata": {},
   "outputs": [],
   "source": [
    "ridge = Ridge(alpha=1E-2).fit(X, y)\n",
    "yp = ridge.predict(X)\n",
    "plt.scatter(y_scaler.inverse_transform(y), y_scaler.inverse_transform(yp))\n",
    "plt.gca().set_aspect('equal')\n",
    "plt.plot(plt.gca().get_xlim(), plt.gca().get_xlim(), 'r--')"
   ]
  },
  {
   "cell_type": "code",
   "execution_count": null,
   "id": "96412391",
   "metadata": {},
   "outputs": [],
   "source": [
    "pcovr = PCovR(mixing=0.5, regressor=ridge, n_components=1000)\n",
    "pcovr.fit(X, y)\n",
    "t = pcovr.transform(X)\n",
    "plt.scatter(t[:, 0], t[:, 1], c=y)\n",
    "plt.show()"
   ]
  },
  {
   "cell_type": "code",
   "execution_count": null,
   "id": "fbdd28c5",
   "metadata": {},
   "outputs": [],
   "source": [
    "if os.path.exists('kernels.npy'):\n",
    "    K = np.load('kernels.npy')\n",
    "else:\n",
    "    K = np.zeros((len(frames), len(frames)))\n",
    "pbar_tot = tqdm(total=K.shape[0] * K.shape[1])\n",
    "pbar_tot.update(np.count_nonzero(K))"
   ]
  },
  {
   "cell_type": "code",
   "execution_count": null,
   "id": "201d3a8f",
   "metadata": {
    "code_folding": [
     2
    ]
   },
   "outputs": [],
   "source": [
    "from sklearn.metrics import pairwise_kernels\n",
    "\n",
    "def k_func(i):\n",
    "    k = pairwise_kernels(xa_raw[i_splits[i]],\n",
    "                         xa_raw[i_splits[i][0]:],\n",
    "                         metric=\"cosine\")\n",
    "    k_mean = np.array([np.mean(kk) for kk in np.array_split(k.T, \n",
    "                                                          np.subtract(splits[i:], \n",
    "                                                                      sum(lens[:i])))])\n",
    "    del k\n",
    "    return k_mean\n",
    "\n",
    "for i in tqdm(range(len(frames))):\n",
    "    if K[i, -1] == 0:\n",
    "        K[i, i:] = K[i:, i] = k_func(i)\n",
    "        pbar_tot.update(2 * (K.shape[0] - i) - 1)\n",
    "        if any(np.isnan(K[i])):\n",
    "            print(\"PROBLEM\")\n",
    "            break\n",
    "        if i % 100 == 0:\n",
    "            np.save('kernels.npy', K)"
   ]
  },
  {
   "cell_type": "code",
   "execution_count": null,
   "id": "38bd2b39",
   "metadata": {},
   "outputs": [],
   "source": [
    "from sklearn.kernel_ridge import KernelRidge as KRR\n",
    "from skmatter.preprocessing import KernelNormalizer as KN"
   ]
  },
  {
   "cell_type": "code",
   "execution_count": null,
   "id": "085c9a61",
   "metadata": {},
   "outputs": [],
   "source": [
    "k = KN().fit_transform(K)"
   ]
  },
  {
   "cell_type": "code",
   "execution_count": null,
   "id": "86a652d2",
   "metadata": {},
   "outputs": [],
   "source": [
    "krr = KRR(alpha=1E-4, kernel='precomputed')\n",
    "krr.fit(k, y)\n",
    "ykp = krr.predict(k)\n",
    "plt.scatter(y_scaler.inverse_transform(y), y_scaler.inverse_transform(ykp))\n",
    "plt.gca().set_aspect('equal')\n",
    "plt.plot(plt.gca().get_xlim(), plt.gca().get_xlim(), 'r--')"
   ]
  },
  {
   "cell_type": "code",
   "execution_count": null,
   "id": "ccc9f4c0",
   "metadata": {},
   "outputs": [],
   "source": [
    "from skmatter.decomposition import KernelPCovR as KPCovR\n",
    "kpcovr = KPCovR(mixing=0.5, regressor=krr, kernel='precomputed', alpha=1E-4, n_components=1000)\n",
    "kpcovr.fit(k, y)\n",
    "tk = kpcovr.transform(k)\n",
    "plt.scatter(tk[:, 0], tk[:, 1], c=y)\n",
    "plt.show()"
   ]
  },
  {
   "cell_type": "code",
   "execution_count": null,
   "id": "61faf891",
   "metadata": {},
   "outputs": [],
   "source": [
    "from skmatter import feature_selection, sample_selection\n",
    "\n",
    "fFPS = feature_selection.FPS(n_to_select=1000, progress_bar=True).fit(X)\n",
    "fCUR = feature_selection.CUR(n_to_select=1000, progress_bar=True).fit(X)\n",
    "fPCovFPS = feature_selection.PCovFPS(mixing=0.0,\n",
    "                                     n_to_select=1000,\n",
    "                                     progress_bar=True).fit(X, yp)\n",
    "fPCovCUR = feature_selection.PCovCUR(mixing=0.0,\n",
    "                                     n_to_select=1000,\n",
    "                                     progress_bar=True).fit(X, yp)"
   ]
  },
  {
   "cell_type": "code",
   "execution_count": null,
   "id": "3adc49df",
   "metadata": {},
   "outputs": [],
   "source": [
    "np.savez('feature_selections.npz',\n",
    "        cur=fCUR.selected_idx_,\n",
    "        fps=fFPS.selected_idx_,\n",
    "        pcovcur=fPCovCUR.selected_idx_,\n",
    "        pcovfps=fPCovFPS.selected_idx_)"
   ]
  },
  {
   "cell_type": "code",
   "execution_count": null,
   "id": "e8757440",
   "metadata": {},
   "outputs": [],
   "source": [
    "from sklearn.metrics import mean_squared_error"
   ]
  },
  {
   "cell_type": "code",
   "execution_count": null,
   "id": "b8314192",
   "metadata": {},
   "outputs": [],
   "source": [
    "ns = list(sorted(set(np.logspace(0, 3, 100, dtype=int))))\n",
    "errors = {}\n",
    "for selector, name in zip(tqdm([fFPS, fCUR, fPCovFPS, fPCovCUR]), [\"FPS\", \"CUR\", \"PCovFPS\", \"PCovCUR\"]):\n",
    "    error =np.zeros(len(ns))\n",
    "    for i, n in enumerate(ns):\n",
    "        x = X[:, selector.selected_idx_[:n]]\n",
    "        rr = Ridge(alpha=1E-4).fit(x, y)\n",
    "        error[i] = mean_squared_error(\n",
    "            y_scaler.inverse_transform(y),\n",
    "            y_scaler.inverse_transform(rr.predict(x)))**0.5\n",
    "    errors[name] = error"
   ]
  },
  {
   "cell_type": "code",
   "execution_count": null,
   "id": "49822f17",
   "metadata": {},
   "outputs": [],
   "source": [
    "for k in tqdm(range(10)):\n",
    "    random_state = np.random.RandomState(0)\n",
    "    idx = random_state.choice(X.shape[1], 1000)\n",
    "    error = np.zeros(len(ns))\n",
    "    for i, n in enumerate(ns):\n",
    "        x = X[:, idx[:n]]\n",
    "        rr = Ridge(alpha=1E-4).fit(x, y)\n",
    "        error[i] = mean_squared_error(\n",
    "            y_scaler.inverse_transform(y),\n",
    "            y_scaler.inverse_transform(rr.predict(x)))**0.5\n",
    "    errors[f'random_{k}'] = error"
   ]
  },
  {
   "cell_type": "code",
   "execution_count": null,
   "id": "7f265fbe",
   "metadata": {},
   "outputs": [],
   "source": [
    "rr = Ridge(alpha=1E-4).fit(X, y)\n",
    "ferror = mean_squared_error(y_scaler.inverse_transform(y), y_scaler.inverse_transform(rr.predict(X)))**0.5\n",
    "ferror"
   ]
  },
  {
   "cell_type": "code",
   "execution_count": null,
   "id": "2a285599",
   "metadata": {},
   "outputs": [],
   "source": [
    "colors = {\n",
    "    \"FPS\": 'dodgerblue',\n",
    "    'CUR': 'crimson',\n",
    "    'PCovFPS': 'dodgerblue',\n",
    "    'PCovCUR': 'crimson'\n",
    "}\n",
    "linestyles = {\"FPS\": \"dashed\", \"CUR\": \"dashed\", \"PCovFPS\": \"solid\", \"PCovCUR\":\"solid\"}\n",
    "for name in [\"FPS\", \"CUR\", \"PCovFPS\", \"PCovCUR\"]:\n",
    "    plt.loglog(ns, errors[name], label=name, c=colors.get(name), linestyle=linestyles.get(name))\n",
    "plt.errorbar(\n",
    "    ns,\n",
    "    np.mean([errors[f'random_{i}'] for i in range(10)], axis=0),\n",
    "    np.std([errors[f'random_{i}'] for i in range(10)], axis=0),\n",
    "    c='k', errorevery=10,\n",
    "    label='Random (10 trials)'\n",
    ")\n",
    "plt.axhline(ferror,\n",
    "            c='grey',\n",
    "            linestyle='dashed',\n",
    "            label='All Features',\n",
    "           )\n",
    "plt.legend()\n",
    "plt.show()"
   ]
  },
  {
   "cell_type": "code",
   "execution_count": null,
   "id": "59c70dbf",
   "metadata": {},
   "outputs": [],
   "source": [
    "if os.path.exists('selected_kernels.npz'):\n",
    "    Ks = dict(np.load('selected_kernels.npz'))\n",
    "else:\n",
    "    Ks = {str(n): np.zeros((len(frames), len(frames))) for n in ns[::10]}\n",
    "pbar_tot = tqdm(total=X.shape[0] * X.shape[1] * len(list(Ks.keys())))"
   ]
  },
  {
   "cell_type": "code",
   "execution_count": null,
   "id": "99cc1424",
   "metadata": {
    "code_folding": []
   },
   "outputs": [],
   "source": [
    "from sklearn.metrics import pairwise_kernels\n",
    "\n",
    "def k_func_sel(i, idx):\n",
    "    k = pairwise_kernels(xa_raw[i_splits[i]][:,idx],\n",
    "                         xa_raw[i_splits[i][0]:][:,idx],\n",
    "                         metric=\"cosine\")\n",
    "    k_mean = np.array([np.mean(kk) for kk in np.array_split(k.T, \n",
    "                                                          np.subtract(splits[i:], \n",
    "                                                                      sum(lens[:i])))])\n",
    "    del k\n",
    "    return k_mean\n",
    "\n",
    "for n in Ks:\n",
    "    for i in tqdm(range(len(frames))):\n",
    "        if Ks[str(n)][i, -1] == 0:\n",
    "            Ks[str(n)][i, i:] = Ks[str(n)][i:, i] = k_func_sel(i, fPCovCUR.selected_idx_[:int(n)])\n",
    "            pbar_tot.update(2 * (Ks[str(n)].shape[0] - i) - 1)\n",
    "            if any(np.isnan(Ks[str(n)][i])):\n",
    "                print(\"PROBLEM\")\n",
    "                break\n",
    "            if i % 1000 == 0:\n",
    "                np.savez('selected_kernels.npz', **Ks)"
   ]
  },
  {
   "cell_type": "code",
   "execution_count": null,
   "id": "caf02892",
   "metadata": {},
   "outputs": [],
   "source": [
    "from chemiscope import show"
   ]
  },
  {
   "cell_type": "code",
   "execution_count": null,
   "id": "ddcdaba8",
   "metadata": {},
   "outputs": [],
   "source": [
    "known = np.zeros(len(frames), dtype=bool)\n",
    "known[:17] = True\n",
    "widget = show(frames,\n",
    "                properties={\n",
    "                    \"pcovr\": t,\n",
    "                    \"kpcovr\": tk,\n",
    "                    \"e_dr [eV/H2O]\": props[:, 2],\n",
    "                    \"e_dr [scaled]\": y,\n",
    "                    \"predicted e_dr [scaled]\": yp,\n",
    "                    \"kpredicted e_dr [scaled]\": ykp,\n",
    "                    \"y error\": np.abs(y-yp),\n",
    "                    \"ky error\": np.abs(y-ykp),\n",
    "                    \"density [g/cm3]\": props[:, 0],\n",
    "                    \"name\": poly_names,\n",
    "                    \"labeled\": [n in catch for n in poly_names],\n",
    "                    \"known\": known\n",
    "                })"
   ]
  },
  {
   "cell_type": "code",
   "execution_count": null,
   "id": "8691e67b",
   "metadata": {},
   "outputs": [],
   "source": [
    "widget.save('ice.json')"
   ]
  },
  {
   "cell_type": "code",
   "execution_count": null,
   "id": "4ddeceef",
   "metadata": {},
   "outputs": [],
   "source": []
  }
 ],
 "metadata": {
  "hide_input": false,
  "kernelspec": {
   "display_name": "Python 3 (ipykernel)",
   "language": "python",
   "name": "python3"
  },
  "language_info": {
   "codemirror_mode": {
    "name": "ipython",
    "version": 3
   },
   "file_extension": ".py",
   "mimetype": "text/x-python",
   "name": "python",
   "nbconvert_exporter": "python",
   "pygments_lexer": "ipython3",
   "version": "3.8.10"
  },
  "toc": {
   "base_numbering": 1,
   "nav_menu": {},
   "number_sections": true,
   "sideBar": true,
   "skip_h1_title": false,
   "title_cell": "Table of Contents",
   "title_sidebar": "Contents",
   "toc_cell": false,
   "toc_position": {},
   "toc_section_display": true,
   "toc_window_display": false
  }
 },
 "nbformat": 4,
 "nbformat_minor": 5
}
